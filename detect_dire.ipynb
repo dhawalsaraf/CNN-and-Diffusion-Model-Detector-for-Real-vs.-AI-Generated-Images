{
 "cells": [
  {
   "cell_type": "markdown",
   "id": "c2bbafdf",
   "metadata": {},
   "source": [
    "# DIRE Detection \n",
    "This notebook implements the DIffusion REconstruction Error (DIRE) detector for distinguishing real vs. diffusion-generated images."
   ]
  },
  {
   "cell_type": "code",
   "execution_count": null,
   "id": "d369a965",
   "metadata": {},
   "outputs": [],
   "source": [
    "%pip install torch\n",
    "\n",
    "import torch\n",
    "import torch.nn.functional as F\n",
    "from diffusers import DDPMPipeline, DDPMScheduler\n",
    "from torchvision import transforms\n",
    "from PIL import Image\n",
    "\n",
    "# Configuration\n",
    "device = \"cuda\" if torch.cuda.is_available() else \"cpu\"\n",
    "model_id = \"google/ddpm-cifar10-32\"\n",
    "num_inference_steps = 100\n",
    "dire_threshold = 0.01\n",
    "\n",
    "# Load pipeline and scheduler\n",
    "pipe = DDPMPipeline.from_pretrained(model_id, torch_dtype=torch.float16).to(device)\n",
    "scheduler = DDPMScheduler.from_pretrained(model_id)\n",
    "scheduler.set_timesteps(num_inference_steps)\n",
    "\n",
    "# Preprocessing\n",
    "preprocess = transforms.Compose([\n",
    "    transforms.Resize((32, 32)),\n",
    "    transforms.ToTensor(),\n",
    "])\n",
    "\n",
    "def compute_dire(img: Image.Image):\n",
    "    x0 = preprocess(img).unsqueeze(0).to(device)\n",
    "    t = scheduler.timesteps[-1]\n",
    "    noise = torch.randn_like(x0)\n",
    "    xt = scheduler.add_noise(x0, noise, t)\n",
    "    x_recon = xt\n",
    "    for t in scheduler.timesteps:\n",
    "        with torch.no_grad():\n",
    "            model_output = pipe.unet(x_recon, t)[\"sample\"]\n",
    "        x_recon = scheduler.step(model_output, t, x_recon)[\"prev_sample\"]\n",
    "    dire = F.mse_loss(x_recon, x0).item()\n",
    "    return dire, x_recon.squeeze(0).cpu()\n",
    "\n",
    "def detect_via_dire(img: Image.Image):\n",
    "    dire, recon = compute_dire(img)\n",
    "    is_diffusion = dire < dire_threshold\n",
    "    return is_diffusion, dire, recon\n"
   ]
  },
  {
   "cell_type": "code",
   "execution_count": null,
   "id": "1bddcc59",
   "metadata": {},
   "outputs": [],
   "source": [
    "\n",
    "# Example usage\n",
    "if __name__ == \"__main__\":\n",
    "    import sys\n",
    "    if len(sys.argv) != 2:\n",
    "        print(\"Usage: python detect_dire.py path/to/image.png\")\n",
    "        sys.exit(1)\n",
    "    img = Image.open(sys.argv[1]).convert(\"RGB\")\n",
    "    is_diff, dire_score, recon_img = detect_via_dire(img)\n",
    "    print(f\"DIRE score = {dire_score:.6f}\")\n",
    "    print(\"Detected as\", \"diffusion-generated\" if is_diff else \"real\")\n",
    "    recon_pil = transforms.ToPILImage()(recon_img)\n",
    "    recon_pil.save(\"reconstruction.png\")\n"
   ]
  }
 ],
 "metadata": {
  "kernelspec": {
   "display_name": "Python 3",
   "language": "python",
   "name": "python3"
  },
  "language_info": {
   "codemirror_mode": {
    "name": "ipython",
    "version": 3
   },
   "file_extension": ".py",
   "mimetype": "text/x-python",
   "name": "python",
   "nbconvert_exporter": "python",
   "pygments_lexer": "ipython3",
   "version": "3.12.0"
  }
 },
 "nbformat": 4,
 "nbformat_minor": 5
}
